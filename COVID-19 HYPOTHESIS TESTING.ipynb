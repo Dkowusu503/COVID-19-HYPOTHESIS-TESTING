{
 "cells": [
  {
   "cell_type": "markdown",
   "metadata": {},
   "source": [
    "# COVID-19 HYPOTHESIS TESTING\n",
    "Hypothesis testing is the use of statistics to determine the probability that a given hypothesis is true.\n",
    "\n",
    "## Table of Contents\n",
    "1. Import Libraries   \n",
    "2. Load Data\n",
    "3. Testing For Normality\n",
    "4. Test Of Equal Variance\n",
    "5. Mood's Median Test\n",
    "\n",
    "### 1. Import Libraries"
   ]
  },
  {
   "cell_type": "code",
   "execution_count": 2,
   "metadata": {},
   "outputs": [],
   "source": [
    "import statsmodels\n",
    "import numpy as np\n",
    "import pandas as pd\n",
    "import scipy.stats as stats\n",
    "from scipy.stats import anderson\n",
    "import matplotlib.pyplot as plt"
   ]
  },
  {
   "cell_type": "markdown",
   "metadata": {},
   "source": [
    "### 2. Load Data"
   ]
  },
  {
   "cell_type": "code",
   "execution_count": 3,
   "metadata": {},
   "outputs": [],
   "source": [
    "# Aggregated Covid data set for each continent in csv format is read and stored in different pandas dataframes. \n",
    "asi = pd.read_csv(\"C:\\\\Users\\\\dkowu\\\\Desktop\\\\Asia Cases.csv\")\n",
    "af= pd.read_csv(\"C:\\\\Users\\\\dkowu\\\\Desktop\\\\Africa Cases.csv\")\n",
    "eu= pd.read_csv(\"C:\\\\Users\\\\dkowu\\\\Desktop\\\\Europe Cases.csv\")\n",
    "na= pd.read_csv(\"C:\\\\Users\\\\dkowu\\\\Desktop\\\\North America Cases.csv\")\n",
    "sa= pd.read_csv(\"C:\\\\Users\\\\dkowu\\\\Desktop\\\\South America Cases.csv\")\n",
    "oc= pd.read_csv(\"C:\\\\Users\\\\dkowu\\\\Desktop\\\\Oceania Cases.csv\")"
   ]
  },
  {
   "cell_type": "markdown",
   "metadata": {},
   "source": [
    "### 3. Normality Test\n",
    "\n",
    "Many statistical models are based on an underlying assumption of normality hence the need to test for normality. \n",
    "The normality test is a hypothesis test. The null hypothesis (Ho) is that your data is not different from normal. Your alternate or alternative hypothesis (Ha) is that your data is different from normal.Regardless of the statistical normality test you use, you will make your decision about whether to reject or not reject the null based on your p-value. \n",
    "\n",
    "For this specific normality test, the Anderson-Darling method is used. The syntax is anderson(arr, dist=’norm’) where:\n",
    "* arr: It is an array of sample data\n",
    "* dist: It specifies the type of distribution to test against. By Default it is set to ‘norm’ but we can also use ‘expon’ or ‘logistic.’\n",
    " \n",
    "As displaced below, each of the continent have a test statistic well above the critical values therefore that is sufficient proof to claim that the given data sets is not normally distributed."
   ]
  },
  {
   "cell_type": "code",
   "execution_count": 4,
   "metadata": {},
   "outputs": [
    {
     "name": "stdout",
     "output_type": "stream",
     "text": [
      "Asia\n",
      "A-D statistic: 75.9097569265083\n",
      "Critical values: [0.573 0.653 0.784 0.914 1.087]\n",
      "Significance levels: [15.  10.   5.   2.5  1. ]\n",
      "\n",
      "Africa\n",
      "A-D statistic: 38.73001146631941\n",
      "Critical values: [0.573 0.653 0.783 0.914 1.087]\n",
      "Significance levels: [15.  10.   5.   2.5  1. ]\n",
      "\n",
      "Europe\n",
      "A-D statistic: 94.0577592669955\n",
      "Critical values: [0.573 0.653 0.783 0.914 1.087]\n",
      "Significance levels: [15.  10.   5.   2.5  1. ]\n",
      "\n",
      "Oceania\n",
      "A-D statistic: 178.67487813321804\n",
      "Critical values: [0.573 0.653 0.783 0.914 1.087]\n",
      "Significance levels: [15.  10.   5.   2.5  1. ]\n",
      "\n",
      "North America\n",
      "A-D statistic: 91.31806255644096\n",
      "Critical values: [0.573 0.653 0.784 0.914 1.087]\n",
      "Significance levels: [15.  10.   5.   2.5  1. ]\n",
      "\n",
      "South America\n",
      "A-D statistic: 45.182472018739645\n",
      "Critical values: [0.573 0.653 0.784 0.914 1.087]\n",
      "Significance levels: [15.  10.   5.   2.5  1. ]\n"
     ]
    }
   ],
   "source": [
    "print('Asia')\n",
    "Asia_result = (anderson(asi['New_Asia_Cases'], dist='norm'))\n",
    "print(f\"A-D statistic: {Asia_result[0]}\")\n",
    "print(f\"Critical values: {Asia_result[1]}\")\n",
    "print(f\"Significance levels: {Asia_result[2]}\\n\")\n",
    "\n",
    "print('Africa')\n",
    "Africa_result = (anderson(af['New_Africa_Cases'], dist='norm'))\n",
    "print(f\"A-D statistic: {Africa_result[0]}\")\n",
    "print(f\"Critical values: {Africa_result[1]}\")\n",
    "print(f\"Significance levels: {Africa_result[2]}\\n\")\n",
    "\n",
    "print('Europe')\n",
    "Europe_result = (anderson(eu['New_Europe_Cases'], dist='norm'))\n",
    "print(f\"A-D statistic: {Europe_result[0]}\")\n",
    "print(f\"Critical values: {Europe_result[1]}\")\n",
    "print(f\"Significance levels: {Europe_result[2]}\\n\")\n",
    "\n",
    "print('Oceania')\n",
    "Oceania_result = (anderson(oc['New_Oceania_Cases'], dist='norm'))\n",
    "print(f\"A-D statistic: {Oceania_result[0]}\")\n",
    "print(f\"Critical values: {Oceania_result[1]}\")\n",
    "print(f\"Significance levels: {Oceania_result[2]}\\n\")\n",
    "\n",
    "print('North America')\n",
    "North_America_result = (anderson(na['New_NA_Cases'], dist='norm'))\n",
    "print(f\"A-D statistic: {North_America_result[0]}\")\n",
    "print(f\"Critical values: {North_America_result[1]}\")\n",
    "print(f\"Significance levels: {North_America_result[2]}\\n\")\n",
    "\n",
    "print('South America')\n",
    "South_America_result = (anderson(sa['New_SA_Cases'], dist='norm'))\n",
    "print(f\"A-D statistic: {South_America_result[0]}\")\n",
    "print(f\"Critical values: {South_America_result[1]}\")\n",
    "print(f\"Significance levels: {South_America_result[2]}\")"
   ]
  },
  {
   "cell_type": "markdown",
   "metadata": {},
   "source": [
    "### 4. Test Of Equal Variance\n",
    "\n",
    "Like the normality test, many statistical tests depend on the assumption of equal variance hence the need to test for it. \n",
    "The Levene test is used to verify this assumption. The Levene test was selected because it is less sensitive to non-normal data. The null hypothesis (Ho) is that the variances are equal across all samples/groups. The alternate hypothesis (Ha) is that the variances are not equal across all samples/groups. Typically if p-value is less than 0.05 we reject the null hypothesis, if not we fail to reject the null hypothesis.\n",
    "\n",
    "Since the p-value for covid cases across the different continents is less than 0.05, this means we have sufficient evidence to say that the variance in daily covid-19 cases between the 6 different continents is significantly different.\n",
    "Similarly for daily covid-19 deaths we have sufficient evidence to say the variance is significantly different since the p-value is less than 0.05.\n"
   ]
  },
  {
   "cell_type": "code",
   "execution_count": 5,
   "metadata": {},
   "outputs": [
    {
     "data": {
      "text/plain": [
       "LeveneResult(statistic=186.1240318355679, pvalue=2.712075070748478e-183)"
      ]
     },
     "execution_count": 5,
     "metadata": {},
     "output_type": "execute_result"
    }
   ],
   "source": [
    "#Levene's test centered at the median for cases\n",
    "stats.levene(asi[\"New_Asia_Cases\"], af[\"New_Africa_Cases\"], eu[\"New_Europe_Cases\"], na[\"New_NA_Cases\"], sa[\"New_SA_Cases\"], oc[\"New_Oceania_Cases\"], center='median')\n",
    "\n"
   ]
  },
  {
   "cell_type": "code",
   "execution_count": 6,
   "metadata": {},
   "outputs": [
    {
     "data": {
      "text/plain": [
       "LeveneResult(statistic=419.3862442478768, pvalue=0.0)"
      ]
     },
     "execution_count": 6,
     "metadata": {},
     "output_type": "execute_result"
    }
   ],
   "source": [
    "#Levene's test centered at the median for deaths\n",
    "stats.levene(asi[\"New_Asia_Deaths\"], af[\"New_Africa_Deaths\"], eu[\"New_Europe_Deaths\"], na[\"New_NA_Deaths\"], sa[\"New_SA_Deaths\"], oc[\"New_Oceania_Deaths\"], center='median')\n"
   ]
  },
  {
   "cell_type": "markdown",
   "metadata": {},
   "source": [
    "### 5. Mood's Median Test\n",
    "\n",
    "Mood’s median test is a nonparametric test to compare the medians of two or more samples. To perform Mood's median test there has to be at least two samples and the samples do not have to be the same length. The null hypothesis (Ho) is that the median is equal across all samples/groups. The alternate hypothesis (Ha) is that the median is not equal across all samples/groups.\n",
    "The Mood's median test in python returns the test statistic, the p-value, the grand median(median after all samples are combined together)  and a 2 by n contingency tables where n is for number of groups (the first and second rows in the table are for values above and below the grand mean respectively in each group).\n",
    "\n",
    "Typically if the p-value is greater than 0.05, we fail to reject the null hypothesis.\n",
    "From the results below, it can be seen that the p-value for both covid cases and deaths across 6 continents are less than 0.05.\n",
    "This is sufficient evidence to say the median for both daily covid cases and deaths is significantly different across all 6 continents."
   ]
  },
  {
   "cell_type": "code",
   "execution_count": 7,
   "metadata": {},
   "outputs": [
    {
     "name": "stdout",
     "output_type": "stream",
     "text": [
      "1913.2019660836645 0.0 41159.0 [[739  39 643 633 518 112]\n",
      " [167 833 245 276 391 772]]\n"
     ]
    }
   ],
   "source": [
    "stat, p, med, tbl = stats.median_test(asi[\"New_Asia_Cases\"], af[\"New_Africa_Cases\"], eu[\"New_Europe_Cases\"], na[\"New_NA_Cases\"], sa[\"New_SA_Cases\"], oc[\"New_Oceania_Cases\"])\n",
    "print(stat,p,med,tbl)"
   ]
  },
  {
   "cell_type": "code",
   "execution_count": 8,
   "metadata": {},
   "outputs": [
    {
     "name": "stdout",
     "output_type": "stream",
     "text": [
      "2168.6613987132764 0.0 670.0 [[675  88 667 681 573   0]\n",
      " [231 784 221 228 336 884]]\n"
     ]
    }
   ],
   "source": [
    "stat, p, med, tbl = stats.median_test(asi[\"New_Asia_Deaths\"], af[\"New_Africa_Deaths\"], eu[\"New_Europe_Deaths\"], na[\"New_NA_Deaths\"], sa[\"New_SA_Deaths\"], oc[\"New_Oceania_Deaths\"])\n",
    "print(stat,p,med,tbl)"
   ]
  },
  {
   "cell_type": "markdown",
   "metadata": {},
   "source": [
    "\n"
   ]
  },
  {
   "cell_type": "code",
   "execution_count": null,
   "metadata": {},
   "outputs": [],
   "source": []
  }
 ],
 "metadata": {
  "kernelspec": {
   "display_name": "Python 3",
   "language": "python",
   "name": "python3"
  },
  "language_info": {
   "codemirror_mode": {
    "name": "ipython",
    "version": 3
   },
   "file_extension": ".py",
   "mimetype": "text/x-python",
   "name": "python",
   "nbconvert_exporter": "python",
   "pygments_lexer": "ipython3",
   "version": "3.7.1"
  }
 },
 "nbformat": 4,
 "nbformat_minor": 2
}
